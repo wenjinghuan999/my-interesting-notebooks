{
 "cells": [
  {
   "cell_type": "markdown",
   "source": [
    "# Eat Black and White Beans\r\n",
    "\r\n",
    "There are white and black beans (with equal amount) in a container.\r\n",
    "For each time, randomly select one bean from the container. If it's black, eat it immediately.\r\n",
    "Otherwise, put it back and select again, and eat it regardless of its color.\r\n",
    "Repeat the above operation until container empty.\r\n",
    "Find the probability that last bean eaten is black.\r\n"
   ],
   "metadata": {}
  },
  {
   "cell_type": "markdown",
   "source": [
    "# Analyze\r\n",
    "\r\n",
    "It is clear that black beans are more probable to be eaten, therefore white beans tends to\r\n",
    "be left more than black beans. The probability to be found should be less than 1/2.\r\n",
    "Lets say there are $n$ white beans and $n$ black beans.\r\n",
    "When $n=1$, we can easily calculate the probability:\r\n",
    "$$\r\n",
    "P(\\text{Last is black}) = P(\\text{First is white}) * P(\\text{Second is white}) = \\frac 1 4\r\n",
    "$$\r\n",
    "It seems when $n$ gets larger, the probability to be found should be smaller, because there might\r\n",
    "be less and less black beans when the operation goes on. Maybe the probability to be found should\r\n",
    "tend to zero as $n \\to \\infty$. So now let's write a program to check if it is true."
   ],
   "metadata": {}
  },
  {
   "cell_type": "markdown",
   "source": [
    "# Programming\r\n",
    "\r\n",
    "Let's say the probability that the last eaten bean is black is $P(n)$, where $n$ is the number of white beans in the container (the same as the number of black beans).\r\n",
    "First let's check $P(1) = \\frac 1 4$."
   ],
   "metadata": {}
  },
  {
   "cell_type": "code",
   "execution_count": 3,
   "source": [
    "import random\r\n",
    "from typing import Tuple\r\n",
    "\r\n",
    "# use Tuple[int, int] to describe container status (# of white beans, # of black beans).\r\n",
    "ContainerState = Tuple[int, int]\r\n",
    "\r\n",
    "# operate once and return the state after operation\r\n",
    "def operate_once(state: ContainerState) -> ContainerState:\r\n",
    "    selection = random.randint(0, 1)\r\n",
    "    if selection == 0:\r\n",
    "        # white, put back and select again\r\n",
    "        selection = random.randint(0, 1)\r\n",
    "    if selection == 0:\r\n",
    "        return state[0] - 1, state[1]\r\n",
    "    else:\r\n",
    "        return state[0], state[1] - 1\r\n",
    "\r\n",
    "# simulate once and return the color of last bean (0 for white and 1 for black)\r\n",
    "def simulate(n: int) -> int:\r\n",
    "    state = n, n\r\n",
    "    while state[0] and state[1]:\r\n",
    "        state = operate_once(state)\r\n",
    "    return 0 if state[0] else 1\r\n",
    "\r\n",
    "# simulate many times and find P(n), where T is the total times of simulations\r\n",
    "def simulate_and_calc_prob(n: int, T: int = 100000) -> float:\r\n",
    "    num_cases_last_is_black = 0\r\n",
    "    num_cases_total = T\r\n",
    "    for _ in range(num_cases_total):\r\n",
    "        result = simulate(n)\r\n",
    "        if result == 1:\r\n",
    "            num_cases_last_is_black += 1\r\n",
    "    return float(num_cases_last_is_black) / float(num_cases_total)\r\n",
    "\r\n",
    "print(\"P(1) =\", simulate_and_calc_prob(1))"
   ],
   "outputs": [
    {
     "output_type": "stream",
     "name": "stdout",
     "text": [
      "P(1) = 0.25041\n"
     ]
    }
   ],
   "metadata": {}
  },
  {
   "cell_type": "markdown",
   "source": [
    "# Larger $n$\r\n",
    "\r\n",
    "The result seems ok. Let's try larger $n$.\r\n"
   ],
   "metadata": {}
  },
  {
   "cell_type": "code",
   "execution_count": 6,
   "source": [
    "for n in [1, 2, 3, 4, 5, 10, 100]:\r\n",
    "    print(\"P({}) =\".format(n), simulate_and_calc_prob(n))\r\n"
   ],
   "outputs": [
    {
     "output_type": "stream",
     "name": "stdout",
     "text": [
      "P(1) = 0.25044\n",
      "P(2) = 0.15417\n",
      "P(3) = 0.1029\n",
      "P(4) = 0.06941\n",
      "P(5) = 0.04879\n",
      "P(10) = 0.00914\n",
      "P(100) = 0.0\n"
     ]
    }
   ],
   "metadata": {}
  },
  {
   "cell_type": "markdown",
   "source": [
    "# Faster Program\r\n",
    "\r\n",
    "Well, the results tend to zero as $n$ gets larger, which is good. But the program is getting slow.\r\n",
    "Let's try faster it up a little bit.\r\n",
    "\r\n",
    "If there are $x$ white beans and $y$ black beans, what's the next bean we are eating?\r\n",
    "$$\r\n",
    "\\begin{aligned}\r\n",
    "P(\\text{Eat white}) &= P(\\text{First is white}) \\cdot P(\\text{Second is white}) \\\\\r\n",
    "&= \\frac{x}{x + y} \\times \\frac{x}{x + y} \\\\\r\n",
    "&= \\frac{x^2}{(x + y)^2} \\\\\r\n",
    "P(\\text{Eat black}) &= P(\\text{First is black}) + P(\\text{First is white}) \\cdot P(\\text{Second is black}) \\\\\r\n",
    "&= \\frac{y}{x + y} + \\frac{x}{x + y} \\times \\frac{y}{x + y} \\\\\r\n",
    "&= \\frac{2 x y + y^2}{(x + y)^2}\r\n",
    "\\end{aligned}\r\n",
    "$$\r\n",
    "\r\n",
    "Let's rewrite our program basing on these equations.\r\n"
   ],
   "metadata": {}
  },
  {
   "cell_type": "code",
   "execution_count": 11,
   "source": [
    "# operate once and return the state after operation\r\n",
    "def operate_once_faster(state: ContainerState) -> ContainerState:\r\n",
    "    prob_white = float(state[0]) * float(state[0]) / (float(state[0] + state[1]) * float(state[0] + state[1]))\r\n",
    "    selection = 0 if random.random() < prob_white else 1\r\n",
    "    if selection == 0:\r\n",
    "        return state[0] - 1, state[1]\r\n",
    "    else:\r\n",
    "        return state[0], state[1] - 1\r\n",
    "    \r\n",
    "# simulate once and return the color of last bean (0 for white and 1 for black)\r\n",
    "def simulate_faster(n: int) -> int:\r\n",
    "    state = n, n\r\n",
    "    while state[0] and state[1]:\r\n",
    "        state = operate_once_faster(state)\r\n",
    "    return 0 if state[0] else 1\r\n",
    "\r\n",
    "# simulate many times and find P(n), where T is the total times of simulations\r\n",
    "def simulate_and_calc_prob_faster(n: int, T: int = 100000) -> float:\r\n",
    "    num_cases_last_is_black = 0\r\n",
    "    num_cases_total = T\r\n",
    "    for _ in range(num_cases_total):\r\n",
    "        result = simulate_faster(n)\r\n",
    "        if result == 1:\r\n",
    "            num_cases_last_is_black += 1\r\n",
    "    return float(num_cases_last_is_black) / float(num_cases_total)\r\n",
    "\r\n",
    "for n in [1, 2, 3, 4, 5, 10, 100]:\r\n",
    "    print(\"P({}) =\".format(n), simulate_and_calc_prob_faster(n))"
   ],
   "outputs": [
    {
     "output_type": "stream",
     "name": "stdout",
     "text": [
      "P(1) = 0.25183\n",
      "P(2) = 0.1651\n",
      "P(3) = 0.12549\n",
      "P(4) = 0.10041\n",
      "P(5) = 0.08406\n",
      "P(10) = 0.04595\n",
      "P(100) = 0.00495\n"
     ]
    }
   ],
   "metadata": {}
  },
  {
   "cell_type": "markdown",
   "source": [
    "# No Simulation\r\n",
    "\r\n",
    "Of course it is not faster at all. That is because the number of simulation is exactly te same. But by looking through the equations, we found a way to find the probability without any simulation!\r\n",
    "\r\n",
    "Let's say the current state is $(x, y)$. Then\r\n",
    "$$\r\n",
    "P(\\text{Last is black}|(x, y)) = P(\\text{Eat white}) \\cdot P(\\text{Last is black}|(x - 1, y)) + P(\\text{Eat black}) \\cdot P(\\text{Last is black}|(x, y - 1))\r\n",
    "$$\r\n",
    "\r\n",
    "We know that\r\n",
    "$$\r\n",
    "P(\\text{Last is black}|(0, 1)) = 1\r\n",
    "P(\\text{Last is black}|(1, 0)) = 0\r\n",
    "$$\r\n",
    "\r\n",
    "Then we can write a program to calculate any $P(\\text{Last is black}|(n, n))$ using dynamic programming. (Let's use $P(n, n)$ to denote $P(\\text{Last is black}|(n, n))$.)\r\n"
   ],
   "metadata": {}
  },
  {
   "cell_type": "code",
   "execution_count": 12,
   "source": [
    "from typing import List\r\n",
    "\r\n",
    "# use dynamic programming to calculate any P\r\n",
    "def calc_prob_by_dp(n: int) -> float:\r\n",
    "    # p[x] = P(Last is black | (x, y)) where y changes during iteration\r\n",
    "    p: List[float] = [0.0] * (n + 1)\r\n",
    "    # last_p[x] = P(Last is black | (x, y - 1))\r\n",
    "    last_p: List[float] = [0.0] * (n + 1)\r\n",
    "    \r\n",
    "    for y in range(1, n + 1):\r\n",
    "        p[0] = 1.0\r\n",
    "        for x in range(1, n + 1):\r\n",
    "            prob_white = float(x) * float(x) / (float(x + y) * float(x + y))\r\n",
    "            p[x] = prob_white * p[x - 1] + (1.0 - prob_white) * last_p[x]\r\n",
    "        p, last_p = last_p, p\r\n",
    "    \r\n",
    "    return last_p[n]\r\n",
    "\r\n",
    "for n in [1, 2, 3, 4, 5, 10, 100]:\r\n",
    "    print(\"P({}) =\".format(n), calc_prob_by_dp(n))"
   ],
   "outputs": [
    {
     "output_type": "stream",
     "name": "stdout",
     "text": [
      "P(1) = 0.25\n",
      "P(2) = 0.16666666666666666\n",
      "P(3) = 0.125\n",
      "P(4) = 0.09999999999999999\n",
      "P(5) = 0.08333333333333333\n",
      "P(10) = 0.04545454545454545\n",
      "P(100) = 0.004950495049504951\n"
     ]
    }
   ],
   "metadata": {}
  },
  {
   "cell_type": "markdown",
   "source": [
    "# Plotting\r\n",
    "\r\n",
    "Let's plot $P(\\text{Last is black}|(n, n))$ by $n$.\r\n"
   ],
   "metadata": {}
  },
  {
   "cell_type": "code",
   "execution_count": 21,
   "source": [
    "# use dynamic programming to calculate any P\r\n",
    "def calc_prob_by_dp_all(n: int) -> List[float]:\r\n",
    "    # p[x] = P(Last is black | (x, y)) where y changes during iteration\r\n",
    "    p: List[float] = [0.0] * (n + 1)\r\n",
    "    # last_p[x] = P(Last is black | (x, y - 1))\r\n",
    "    last_p: List[float] = [0.0] * (n + 1)\r\n",
    "    # p_all[n - 1] = P(Last is black | (n, n))\r\n",
    "    p_all: List[float] = [0.0] * n\r\n",
    "    \r\n",
    "    for y in range(1, n + 1):\r\n",
    "        p[0] = 1.0\r\n",
    "        for x in range(1, n + 1):\r\n",
    "            prob_white = float(x) * float(x) / (float(x + y) * float(x + y))\r\n",
    "            p[x] = prob_white * p[x - 1] + (1.0 - prob_white) * last_p[x]\r\n",
    "        p_all[y - 1] = p[y]\r\n",
    "        p, last_p = last_p, p\r\n",
    "    \r\n",
    "    return p_all\r\n",
    "\r\n",
    "from matplotlib import pyplot as plt\r\n",
    "\r\n",
    "N = 20\r\n",
    "ps = calc_prob_by_dp_all(N)\r\n",
    "ns = list(range(1, N + 1))\r\n",
    "plt.plot(ns, ps)\r\n",
    "plt.xlabel('n')\r\n",
    "plt.xticks([1, 5, 10, 15, 20])\r\n",
    "plt.ylabel('P(n,n)')\r\n",
    "plt.show()"
   ],
   "outputs": [
    {
     "output_type": "display_data",
     "data": {
      "text/plain": [
       "<Figure size 432x288 with 1 Axes>"
      ],
      "image/svg+xml": "<?xml version=\"1.0\" encoding=\"utf-8\" standalone=\"no\"?>\r\n<!DOCTYPE svg PUBLIC \"-//W3C//DTD SVG 1.1//EN\"\r\n  \"http://www.w3.org/Graphics/SVG/1.1/DTD/svg11.dtd\">\r\n<!-- Created with matplotlib (https://matplotlib.org/) -->\r\n<svg height=\"262.19625pt\" version=\"1.1\" viewBox=\"0 0 392.14375 262.19625\" width=\"392.14375pt\" xmlns=\"http://www.w3.org/2000/svg\" xmlns:xlink=\"http://www.w3.org/1999/xlink\">\r\n <metadata>\r\n  <rdf:RDF xmlns:cc=\"http://creativecommons.org/ns#\" xmlns:dc=\"http://purl.org/dc/elements/1.1/\" xmlns:rdf=\"http://www.w3.org/1999/02/22-rdf-syntax-ns#\">\r\n   <cc:Work>\r\n    <dc:type rdf:resource=\"http://purl.org/dc/dcmitype/StillImage\"/>\r\n    <dc:date>2021-08-09T17:11:51.589451</dc:date>\r\n    <dc:format>image/svg+xml</dc:format>\r\n    <dc:creator>\r\n     <cc:Agent>\r\n      <dc:title>Matplotlib v3.3.2, https://matplotlib.org/</dc:title>\r\n     </cc:Agent>\r\n    </dc:creator>\r\n   </cc:Work>\r\n  </rdf:RDF>\r\n </metadata>\r\n <defs>\r\n  <style type=\"text/css\">*{stroke-linecap:butt;stroke-linejoin:round;}</style>\r\n </defs>\r\n <g id=\"figure_1\">\r\n  <g id=\"patch_1\">\r\n   <path d=\"M 0 262.19625 \r\nL 392.14375 262.19625 \r\nL 392.14375 0 \r\nL 0 0 \r\nz\r\n\" style=\"fill:none;\"/>\r\n  </g>\r\n  <g id=\"axes_1\">\r\n   <g id=\"patch_2\">\r\n    <path d=\"M 50.14375 224.64 \r\nL 384.94375 224.64 \r\nL 384.94375 7.2 \r\nL 50.14375 7.2 \r\nz\r\n\" style=\"fill:#ffffff;\"/>\r\n   </g>\r\n   <g id=\"matplotlib.axis_1\">\r\n    <g id=\"xtick_1\">\r\n     <g id=\"line2d_1\">\r\n      <defs>\r\n       <path d=\"M 0 0 \r\nL 0 3.5 \r\n\" id=\"m2cab4f5db7\" style=\"stroke:#000000;stroke-width:0.8;\"/>\r\n      </defs>\r\n      <g>\r\n       <use style=\"stroke:#000000;stroke-width:0.8;\" x=\"65.361932\" xlink:href=\"#m2cab4f5db7\" y=\"224.64\"/>\r\n      </g>\r\n     </g>\r\n     <g id=\"text_1\">\r\n      <!-- 1 -->\r\n      <g transform=\"translate(62.180682 239.238438)scale(0.1 -0.1)\">\r\n       <defs>\r\n        <path d=\"M 12.40625 8.296875 \r\nL 28.515625 8.296875 \r\nL 28.515625 63.921875 \r\nL 10.984375 60.40625 \r\nL 10.984375 69.390625 \r\nL 28.421875 72.90625 \r\nL 38.28125 72.90625 \r\nL 38.28125 8.296875 \r\nL 54.390625 8.296875 \r\nL 54.390625 0 \r\nL 12.40625 0 \r\nz\r\n\" id=\"DejaVuSans-49\"/>\r\n       </defs>\r\n       <use xlink:href=\"#DejaVuSans-49\"/>\r\n      </g>\r\n     </g>\r\n    </g>\r\n    <g id=\"xtick_2\">\r\n     <g id=\"line2d_2\">\r\n      <g>\r\n       <use style=\"stroke:#000000;stroke-width:0.8;\" x=\"129.438487\" xlink:href=\"#m2cab4f5db7\" y=\"224.64\"/>\r\n      </g>\r\n     </g>\r\n     <g id=\"text_2\">\r\n      <!-- 5 -->\r\n      <g transform=\"translate(126.257237 239.238438)scale(0.1 -0.1)\">\r\n       <defs>\r\n        <path d=\"M 10.796875 72.90625 \r\nL 49.515625 72.90625 \r\nL 49.515625 64.59375 \r\nL 19.828125 64.59375 \r\nL 19.828125 46.734375 \r\nQ 21.96875 47.46875 24.109375 47.828125 \r\nQ 26.265625 48.1875 28.421875 48.1875 \r\nQ 40.625 48.1875 47.75 41.5 \r\nQ 54.890625 34.8125 54.890625 23.390625 \r\nQ 54.890625 11.625 47.5625 5.09375 \r\nQ 40.234375 -1.421875 26.90625 -1.421875 \r\nQ 22.3125 -1.421875 17.546875 -0.640625 \r\nQ 12.796875 0.140625 7.71875 1.703125 \r\nL 7.71875 11.625 \r\nQ 12.109375 9.234375 16.796875 8.0625 \r\nQ 21.484375 6.890625 26.703125 6.890625 \r\nQ 35.15625 6.890625 40.078125 11.328125 \r\nQ 45.015625 15.765625 45.015625 23.390625 \r\nQ 45.015625 31 40.078125 35.4375 \r\nQ 35.15625 39.890625 26.703125 39.890625 \r\nQ 22.75 39.890625 18.8125 39.015625 \r\nQ 14.890625 38.140625 10.796875 36.28125 \r\nz\r\n\" id=\"DejaVuSans-53\"/>\r\n       </defs>\r\n       <use xlink:href=\"#DejaVuSans-53\"/>\r\n      </g>\r\n     </g>\r\n    </g>\r\n    <g id=\"xtick_3\">\r\n     <g id=\"line2d_3\">\r\n      <g>\r\n       <use style=\"stroke:#000000;stroke-width:0.8;\" x=\"209.534181\" xlink:href=\"#m2cab4f5db7\" y=\"224.64\"/>\r\n      </g>\r\n     </g>\r\n     <g id=\"text_3\">\r\n      <!-- 10 -->\r\n      <g transform=\"translate(203.171681 239.238438)scale(0.1 -0.1)\">\r\n       <defs>\r\n        <path d=\"M 31.78125 66.40625 \r\nQ 24.171875 66.40625 20.328125 58.90625 \r\nQ 16.5 51.421875 16.5 36.375 \r\nQ 16.5 21.390625 20.328125 13.890625 \r\nQ 24.171875 6.390625 31.78125 6.390625 \r\nQ 39.453125 6.390625 43.28125 13.890625 \r\nQ 47.125 21.390625 47.125 36.375 \r\nQ 47.125 51.421875 43.28125 58.90625 \r\nQ 39.453125 66.40625 31.78125 66.40625 \r\nz\r\nM 31.78125 74.21875 \r\nQ 44.046875 74.21875 50.515625 64.515625 \r\nQ 56.984375 54.828125 56.984375 36.375 \r\nQ 56.984375 17.96875 50.515625 8.265625 \r\nQ 44.046875 -1.421875 31.78125 -1.421875 \r\nQ 19.53125 -1.421875 13.0625 8.265625 \r\nQ 6.59375 17.96875 6.59375 36.375 \r\nQ 6.59375 54.828125 13.0625 64.515625 \r\nQ 19.53125 74.21875 31.78125 74.21875 \r\nz\r\n\" id=\"DejaVuSans-48\"/>\r\n       </defs>\r\n       <use xlink:href=\"#DejaVuSans-49\"/>\r\n       <use x=\"63.623047\" xlink:href=\"#DejaVuSans-48\"/>\r\n      </g>\r\n     </g>\r\n    </g>\r\n    <g id=\"xtick_4\">\r\n     <g id=\"line2d_4\">\r\n      <g>\r\n       <use style=\"stroke:#000000;stroke-width:0.8;\" x=\"289.629874\" xlink:href=\"#m2cab4f5db7\" y=\"224.64\"/>\r\n      </g>\r\n     </g>\r\n     <g id=\"text_4\">\r\n      <!-- 15 -->\r\n      <g transform=\"translate(283.267374 239.238438)scale(0.1 -0.1)\">\r\n       <use xlink:href=\"#DejaVuSans-49\"/>\r\n       <use x=\"63.623047\" xlink:href=\"#DejaVuSans-53\"/>\r\n      </g>\r\n     </g>\r\n    </g>\r\n    <g id=\"xtick_5\">\r\n     <g id=\"line2d_5\">\r\n      <g>\r\n       <use style=\"stroke:#000000;stroke-width:0.8;\" x=\"369.725568\" xlink:href=\"#m2cab4f5db7\" y=\"224.64\"/>\r\n      </g>\r\n     </g>\r\n     <g id=\"text_5\">\r\n      <!-- 20 -->\r\n      <g transform=\"translate(363.363068 239.238438)scale(0.1 -0.1)\">\r\n       <defs>\r\n        <path d=\"M 19.1875 8.296875 \r\nL 53.609375 8.296875 \r\nL 53.609375 0 \r\nL 7.328125 0 \r\nL 7.328125 8.296875 \r\nQ 12.9375 14.109375 22.625 23.890625 \r\nQ 32.328125 33.6875 34.8125 36.53125 \r\nQ 39.546875 41.84375 41.421875 45.53125 \r\nQ 43.3125 49.21875 43.3125 52.78125 \r\nQ 43.3125 58.59375 39.234375 62.25 \r\nQ 35.15625 65.921875 28.609375 65.921875 \r\nQ 23.96875 65.921875 18.8125 64.3125 \r\nQ 13.671875 62.703125 7.8125 59.421875 \r\nL 7.8125 69.390625 \r\nQ 13.765625 71.78125 18.9375 73 \r\nQ 24.125 74.21875 28.421875 74.21875 \r\nQ 39.75 74.21875 46.484375 68.546875 \r\nQ 53.21875 62.890625 53.21875 53.421875 \r\nQ 53.21875 48.921875 51.53125 44.890625 \r\nQ 49.859375 40.875 45.40625 35.40625 \r\nQ 44.1875 33.984375 37.640625 27.21875 \r\nQ 31.109375 20.453125 19.1875 8.296875 \r\nz\r\n\" id=\"DejaVuSans-50\"/>\r\n       </defs>\r\n       <use xlink:href=\"#DejaVuSans-50\"/>\r\n       <use x=\"63.623047\" xlink:href=\"#DejaVuSans-48\"/>\r\n      </g>\r\n     </g>\r\n    </g>\r\n    <g id=\"text_6\">\r\n     <!-- n -->\r\n     <g transform=\"translate(214.375 252.916563)scale(0.1 -0.1)\">\r\n      <defs>\r\n       <path d=\"M 54.890625 33.015625 \r\nL 54.890625 0 \r\nL 45.90625 0 \r\nL 45.90625 32.71875 \r\nQ 45.90625 40.484375 42.875 44.328125 \r\nQ 39.84375 48.1875 33.796875 48.1875 \r\nQ 26.515625 48.1875 22.3125 43.546875 \r\nQ 18.109375 38.921875 18.109375 30.90625 \r\nL 18.109375 0 \r\nL 9.078125 0 \r\nL 9.078125 54.6875 \r\nL 18.109375 54.6875 \r\nL 18.109375 46.1875 \r\nQ 21.34375 51.125 25.703125 53.5625 \r\nQ 30.078125 56 35.796875 56 \r\nQ 45.21875 56 50.046875 50.171875 \r\nQ 54.890625 44.34375 54.890625 33.015625 \r\nz\r\n\" id=\"DejaVuSans-110\"/>\r\n      </defs>\r\n      <use xlink:href=\"#DejaVuSans-110\"/>\r\n     </g>\r\n    </g>\r\n   </g>\r\n   <g id=\"matplotlib.axis_2\">\r\n    <g id=\"ytick_1\">\r\n     <g id=\"line2d_6\">\r\n      <defs>\r\n       <path d=\"M 0 0 \r\nL -3.5 0 \r\n\" id=\"mc494ce48ee\" style=\"stroke:#000000;stroke-width:0.8;\"/>\r\n      </defs>\r\n      <g>\r\n       <use style=\"stroke:#000000;stroke-width:0.8;\" x=\"50.14375\" xlink:href=\"#mc494ce48ee\" y=\"191.867943\"/>\r\n      </g>\r\n     </g>\r\n     <g id=\"text_7\">\r\n      <!-- 0.05 -->\r\n      <g transform=\"translate(20.878125 195.667161)scale(0.1 -0.1)\">\r\n       <defs>\r\n        <path d=\"M 10.6875 12.40625 \r\nL 21 12.40625 \r\nL 21 0 \r\nL 10.6875 0 \r\nz\r\n\" id=\"DejaVuSans-46\"/>\r\n       </defs>\r\n       <use xlink:href=\"#DejaVuSans-48\"/>\r\n       <use x=\"63.623047\" xlink:href=\"#DejaVuSans-46\"/>\r\n       <use x=\"95.410156\" xlink:href=\"#DejaVuSans-48\"/>\r\n       <use x=\"159.033203\" xlink:href=\"#DejaVuSans-53\"/>\r\n      </g>\r\n     </g>\r\n    </g>\r\n    <g id=\"ytick_2\">\r\n     <g id=\"line2d_7\">\r\n      <g>\r\n       <use style=\"stroke:#000000;stroke-width:0.8;\" x=\"50.14375\" xlink:href=\"#mc494ce48ee\" y=\"148.171866\"/>\r\n      </g>\r\n     </g>\r\n     <g id=\"text_8\">\r\n      <!-- 0.10 -->\r\n      <g transform=\"translate(20.878125 151.971085)scale(0.1 -0.1)\">\r\n       <use xlink:href=\"#DejaVuSans-48\"/>\r\n       <use x=\"63.623047\" xlink:href=\"#DejaVuSans-46\"/>\r\n       <use x=\"95.410156\" xlink:href=\"#DejaVuSans-49\"/>\r\n       <use x=\"159.033203\" xlink:href=\"#DejaVuSans-48\"/>\r\n      </g>\r\n     </g>\r\n    </g>\r\n    <g id=\"ytick_3\">\r\n     <g id=\"line2d_8\">\r\n      <g>\r\n       <use style=\"stroke:#000000;stroke-width:0.8;\" x=\"50.14375\" xlink:href=\"#mc494ce48ee\" y=\"104.475789\"/>\r\n      </g>\r\n     </g>\r\n     <g id=\"text_9\">\r\n      <!-- 0.15 -->\r\n      <g transform=\"translate(20.878125 108.275008)scale(0.1 -0.1)\">\r\n       <use xlink:href=\"#DejaVuSans-48\"/>\r\n       <use x=\"63.623047\" xlink:href=\"#DejaVuSans-46\"/>\r\n       <use x=\"95.410156\" xlink:href=\"#DejaVuSans-49\"/>\r\n       <use x=\"159.033203\" xlink:href=\"#DejaVuSans-53\"/>\r\n      </g>\r\n     </g>\r\n    </g>\r\n    <g id=\"ytick_4\">\r\n     <g id=\"line2d_9\">\r\n      <g>\r\n       <use style=\"stroke:#000000;stroke-width:0.8;\" x=\"50.14375\" xlink:href=\"#mc494ce48ee\" y=\"60.779713\"/>\r\n      </g>\r\n     </g>\r\n     <g id=\"text_10\">\r\n      <!-- 0.20 -->\r\n      <g transform=\"translate(20.878125 64.578932)scale(0.1 -0.1)\">\r\n       <use xlink:href=\"#DejaVuSans-48\"/>\r\n       <use x=\"63.623047\" xlink:href=\"#DejaVuSans-46\"/>\r\n       <use x=\"95.410156\" xlink:href=\"#DejaVuSans-50\"/>\r\n       <use x=\"159.033203\" xlink:href=\"#DejaVuSans-48\"/>\r\n      </g>\r\n     </g>\r\n    </g>\r\n    <g id=\"ytick_5\">\r\n     <g id=\"line2d_10\">\r\n      <g>\r\n       <use style=\"stroke:#000000;stroke-width:0.8;\" x=\"50.14375\" xlink:href=\"#mc494ce48ee\" y=\"17.083636\"/>\r\n      </g>\r\n     </g>\r\n     <g id=\"text_11\">\r\n      <!-- 0.25 -->\r\n      <g transform=\"translate(20.878125 20.882855)scale(0.1 -0.1)\">\r\n       <use xlink:href=\"#DejaVuSans-48\"/>\r\n       <use x=\"63.623047\" xlink:href=\"#DejaVuSans-46\"/>\r\n       <use x=\"95.410156\" xlink:href=\"#DejaVuSans-50\"/>\r\n       <use x=\"159.033203\" xlink:href=\"#DejaVuSans-53\"/>\r\n      </g>\r\n     </g>\r\n    </g>\r\n    <g id=\"text_12\">\r\n     <!-- P(n,n) -->\r\n     <g transform=\"translate(14.798438 130.762969)rotate(-90)scale(0.1 -0.1)\">\r\n      <defs>\r\n       <path d=\"M 19.671875 64.796875 \r\nL 19.671875 37.40625 \r\nL 32.078125 37.40625 \r\nQ 38.96875 37.40625 42.71875 40.96875 \r\nQ 46.484375 44.53125 46.484375 51.125 \r\nQ 46.484375 57.671875 42.71875 61.234375 \r\nQ 38.96875 64.796875 32.078125 64.796875 \r\nz\r\nM 9.8125 72.90625 \r\nL 32.078125 72.90625 \r\nQ 44.34375 72.90625 50.609375 67.359375 \r\nQ 56.890625 61.8125 56.890625 51.125 \r\nQ 56.890625 40.328125 50.609375 34.8125 \r\nQ 44.34375 29.296875 32.078125 29.296875 \r\nL 19.671875 29.296875 \r\nL 19.671875 0 \r\nL 9.8125 0 \r\nz\r\n\" id=\"DejaVuSans-80\"/>\r\n       <path d=\"M 31 75.875 \r\nQ 24.46875 64.65625 21.28125 53.65625 \r\nQ 18.109375 42.671875 18.109375 31.390625 \r\nQ 18.109375 20.125 21.3125 9.0625 \r\nQ 24.515625 -2 31 -13.1875 \r\nL 23.1875 -13.1875 \r\nQ 15.875 -1.703125 12.234375 9.375 \r\nQ 8.59375 20.453125 8.59375 31.390625 \r\nQ 8.59375 42.28125 12.203125 53.3125 \r\nQ 15.828125 64.359375 23.1875 75.875 \r\nz\r\n\" id=\"DejaVuSans-40\"/>\r\n       <path d=\"M 11.71875 12.40625 \r\nL 22.015625 12.40625 \r\nL 22.015625 4 \r\nL 14.015625 -11.625 \r\nL 7.71875 -11.625 \r\nL 11.71875 4 \r\nz\r\n\" id=\"DejaVuSans-44\"/>\r\n       <path d=\"M 8.015625 75.875 \r\nL 15.828125 75.875 \r\nQ 23.140625 64.359375 26.78125 53.3125 \r\nQ 30.421875 42.28125 30.421875 31.390625 \r\nQ 30.421875 20.453125 26.78125 9.375 \r\nQ 23.140625 -1.703125 15.828125 -13.1875 \r\nL 8.015625 -13.1875 \r\nQ 14.5 -2 17.703125 9.0625 \r\nQ 20.90625 20.125 20.90625 31.390625 \r\nQ 20.90625 42.671875 17.703125 53.65625 \r\nQ 14.5 64.65625 8.015625 75.875 \r\nz\r\n\" id=\"DejaVuSans-41\"/>\r\n      </defs>\r\n      <use xlink:href=\"#DejaVuSans-80\"/>\r\n      <use x=\"60.302734\" xlink:href=\"#DejaVuSans-40\"/>\r\n      <use x=\"99.316406\" xlink:href=\"#DejaVuSans-110\"/>\r\n      <use x=\"162.695312\" xlink:href=\"#DejaVuSans-44\"/>\r\n      <use x=\"194.482422\" xlink:href=\"#DejaVuSans-110\"/>\r\n      <use x=\"257.861328\" xlink:href=\"#DejaVuSans-41\"/>\r\n     </g>\r\n    </g>\r\n   </g>\r\n   <g id=\"line2d_11\">\r\n    <path clip-path=\"url(#p232e2eeaa0)\" d=\"M 65.361932 17.083636 \r\nL 81.381071 89.910431 \r\nL 97.400209 126.323828 \r\nL 113.419348 148.171866 \r\nL 129.438487 162.737225 \r\nL 145.457626 173.141053 \r\nL 161.476764 180.943923 \r\nL 177.495903 187.012823 \r\nL 193.515042 191.867943 \r\nL 209.534181 195.840313 \r\nL 225.553319 199.150622 \r\nL 241.572458 201.951653 \r\nL 257.591597 204.352536 \r\nL 273.610736 206.433301 \r\nL 289.629874 208.253971 \r\nL 305.649013 209.860445 \r\nL 321.668152 211.288421 \r\nL 337.687291 212.566084 \r\nL 353.706429 213.715981 \r\nL 369.725568 214.756364 \r\n\" style=\"fill:none;stroke:#1f77b4;stroke-linecap:square;stroke-width:1.5;\"/>\r\n   </g>\r\n   <g id=\"patch_3\">\r\n    <path d=\"M 50.14375 224.64 \r\nL 50.14375 7.2 \r\n\" style=\"fill:none;stroke:#000000;stroke-linecap:square;stroke-linejoin:miter;stroke-width:0.8;\"/>\r\n   </g>\r\n   <g id=\"patch_4\">\r\n    <path d=\"M 384.94375 224.64 \r\nL 384.94375 7.2 \r\n\" style=\"fill:none;stroke:#000000;stroke-linecap:square;stroke-linejoin:miter;stroke-width:0.8;\"/>\r\n   </g>\r\n   <g id=\"patch_5\">\r\n    <path d=\"M 50.14375 224.64 \r\nL 384.94375 224.64 \r\n\" style=\"fill:none;stroke:#000000;stroke-linecap:square;stroke-linejoin:miter;stroke-width:0.8;\"/>\r\n   </g>\r\n   <g id=\"patch_6\">\r\n    <path d=\"M 50.14375 7.2 \r\nL 384.94375 7.2 \r\n\" style=\"fill:none;stroke:#000000;stroke-linecap:square;stroke-linejoin:miter;stroke-width:0.8;\"/>\r\n   </g>\r\n  </g>\r\n </g>\r\n <defs>\r\n  <clipPath id=\"p232e2eeaa0\">\r\n   <rect height=\"217.44\" width=\"334.8\" x=\"50.14375\" y=\"7.2\"/>\r\n  </clipPath>\r\n </defs>\r\n</svg>\r\n",
      "image/png": "[encoded data removed]"
     },
     "metadata": {
      "needs_background": "light"
     }
    }
   ],
   "metadata": {}
  },
  {
   "cell_type": "markdown",
   "source": [
    "# Result\r\n",
    "\r\n",
    "The result seems good.\r\n",
    "\r\n",
    "We notice that\r\n",
    "$$\r\n",
    "\\begin{aligned}\r\n",
    "P(1) &= \\frac 1 4\r\n",
    "P(2) &\\approx \\frac 1 6\r\n",
    "P(3) &\\approx \\frac 1 8\r\n",
    "P(4) &\\approx \\frac 1 10\r\n",
    "P(5) &\\approx \\frac 1 12\r\n",
    "P(10) &\\approx \\frac 1 22\r\n",
    "P(100) &\\approx \\frac 1 202\r\n",
    "\\end{aligned}\r\n",
    "$$\r\n",
    "\r\n",
    "Emmm... May be\r\n",
    "$$\r\n",
    "P(n, n) = \\frac{1}{2n+2}\r\n",
    "$$\r\n",
    "\r\n",
    "To prove that, we must have an idea on what's $P(x, y)$ for any $x$ and $y$.\r\n"
   ],
   "metadata": {}
  }
 ],
 "metadata": {
  "orig_nbformat": 4,
  "language_info": {
   "name": "python",
   "version": "3.8.5",
   "mimetype": "text/x-python",
   "codemirror_mode": {
    "name": "ipython",
    "version": 3
   },
   "pygments_lexer": "ipython3",
   "nbconvert_exporter": "python",
   "file_extension": ".py"
  },
  "kernelspec": {
   "name": "python3",
   "display_name": "Python 3.8.5 64-bit ('base': conda)"
  },
  "interpreter": {
   "hash": "cf6c3ae2e77dcc52f2ada8cf28a35b21796670951709c95e82006349f2fcc57f"
  }
 },
 "nbformat": 4,
 "nbformat_minor": 2
}