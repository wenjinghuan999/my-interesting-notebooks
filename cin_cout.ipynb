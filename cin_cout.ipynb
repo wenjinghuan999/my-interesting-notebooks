{
 "cells": [
  {
   "cell_type": "markdown",
   "metadata": {},
   "source": [
    "# Python cin & cout\n",
    "\n",
    "Using operators << and >> to input and output expressions."
   ]
  },
  {
   "cell_type": "code",
   "execution_count": 65,
   "metadata": {},
   "outputs": [
    {
     "name": "stdout",
     "output_type": "stream",
     "text": [
      "1 2\n"
     ]
    },
    {
     "data": {
      "text/plain": [
       "<__main__.ostream at 0x2a37f0bbfd0>"
      ]
     },
     "execution_count": 65,
     "metadata": {},
     "output_type": "execute_result"
    }
   ],
   "source": [
    "def endl():\n",
    "    pass\n",
    "\n",
    "class ostream:\n",
    "    def __lshift__(self, x: any) -> 'ostream':\n",
    "        if x == endl:\n",
    "            print()\n",
    "        else:\n",
    "            print(x, end='')\n",
    "        return self\n",
    "\n",
    "cout = ostream()\n",
    "cout << 1 << \" \" << 2 << endl"
   ]
  },
  {
   "cell_type": "code",
   "execution_count": 66,
   "metadata": {},
   "outputs": [
    {
     "name": "stdout",
     "output_type": "stream",
     "text": [
      "Hello world! 123 3.14 (1+2j) 2/3"
     ]
    },
    {
     "data": {
      "text/plain": [
       "<__main__.ostream at 0x2a37f0bbfd0>"
      ]
     },
     "execution_count": 66,
     "metadata": {},
     "output_type": "execute_result"
    }
   ],
   "source": [
    "from fractions import Fraction\n",
    "\n",
    "\n",
    "class var:\n",
    "    def __init__(self, ty: type) -> None:\n",
    "        self.ty = ty\n",
    "        self.value = self.ty.__new__(self.ty).__init__()\n",
    "    \n",
    "    def set(self, value: any) -> None:\n",
    "        self.value = self.ty.__new__(self.ty, value)\n",
    "    \n",
    "    def __repr__(self):\n",
    "        return str(self.value)\n",
    "\n",
    "\n",
    "class istream:\n",
    "    def __init__(self) -> None:\n",
    "        self.pending = ''\n",
    "    \n",
    "    def __rshift__(self, x: var) -> 'istream':\n",
    "        if len(self.pending) == 0:\n",
    "            self.pending = input()\n",
    "        splitted = tuple(self.pending.split(maxsplit=1))\n",
    "        s = splitted[0]\n",
    "        self.pending = splitted[1] if len(splitted) > 1 else ''\n",
    "        x.set(s)\n",
    "        return self\n",
    "\n",
    "\n",
    "cin = istream()\n",
    "x = var(int)\n",
    "y = var(float)\n",
    "z = var(complex)\n",
    "w = var(Fraction)\n",
    "cin >> x >> y >> z >> w\n",
    "cout << 'Hello world! ' << x << ' ' << y << ' ' << z << ' ' << w"
   ]
  }
 ],
 "metadata": {
  "kernelspec": {
   "display_name": "Python 3.8.5 ('base')",
   "language": "python",
   "name": "python3"
  },
  "language_info": {
   "codemirror_mode": {
    "name": "ipython",
    "version": 3
   },
   "file_extension": ".py",
   "mimetype": "text/x-python",
   "name": "python",
   "nbconvert_exporter": "python",
   "pygments_lexer": "ipython3",
   "version": "3.8.5"
  },
  "orig_nbformat": 4,
  "vscode": {
   "interpreter": {
    "hash": "2afdca8f70b9f9f77c5d249cdce1221fa9bba527d701426b4b260e465f8ff569"
   }
  }
 },
 "nbformat": 4,
 "nbformat_minor": 2
}
