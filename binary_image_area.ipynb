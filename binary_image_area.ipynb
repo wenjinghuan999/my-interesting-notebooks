{
 "cells": [
  {
   "cell_type": "markdown",
   "source": [
    "# Expected Area of Region on Random Binary Image\r\n",
    "\r\n",
    "Suppose we have an infinitely large 2D image of binary pixels. What's the expectation of the area of each region?\r\n",
    "\r\n",
    "Let's first think about 1D images. Try simulating the expected length of continus pixels. (Note: the simulation is on finante array, and therefore the result may not be accurate.)\r\n"
   ],
   "metadata": {}
  },
  {
   "cell_type": "code",
   "execution_count": 12,
   "source": [
    "import numpy as np\r\n",
    "from typing import List\r\n",
    "\r\n",
    "def make_binary_image_1d(n: int):\r\n",
    "    return np.random.randint(0, 2, (n,))\r\n",
    "\r\n",
    "def get_lengths(line):\r\n",
    "    i, j = 1, 0\r\n",
    "    lengths: List[float] = []\r\n",
    "    while i < N:\r\n",
    "        if line[i] != line[j]:\r\n",
    "            lengths.append(float(i - j))\r\n",
    "            j = i\r\n",
    "        i += 1\r\n",
    "    lengths.append(float(i - j))\r\n",
    "    return lengths\r\n",
    "\r\n",
    "N = 10\r\n",
    "line = make_binary_image_1d(N)\r\n",
    "print('binary image 1d:', line)\r\n",
    "lengths = get_lengths(line)\r\n",
    "print('lengths of each area:', lengths)\r\n",
    "avg = np.mean(lengths)\r\n",
    "print('average lengths:', avg)"
   ],
   "outputs": [
    {
     "output_type": "stream",
     "name": "stdout",
     "text": [
      "binary image 1d: [1 0 0 1 0 0 1 1 1 0]\n",
      "lengths of each area: [1.0, 2.0, 1.0, 2.0, 3.0, 1.0]\n",
      "average lengths: 1.6666666666666667\n"
     ]
    }
   ],
   "metadata": {}
  },
  {
   "cell_type": "code",
   "execution_count": 14,
   "source": [
    "N = 10000\r\n",
    "M = 1000\r\n",
    "avg_lengths: List[float] = []\r\n",
    "for _ in range(M):\r\n",
    "    line = make_binary_image_1d(N)\r\n",
    "    lengths = get_lengths(line)\r\n",
    "    avg_lengths.append(np.mean(lengths))\r\n",
    "print('expected length:', np.mean(avg_lengths))"
   ],
   "outputs": [
    {
     "output_type": "stream",
     "name": "stdout",
     "text": [
      "expected length: 2.0000178422341426\n"
     ]
    }
   ],
   "metadata": {}
  },
  {
   "cell_type": "markdown",
   "source": [
    "# Expected Length of Region on 1D Random Binary Image\r\n",
    "\r\n",
    "The simulated result is $2$. It's easy to understand. Let's say the length is $l$. Suppose the first pixel is black, then\r\n",
    "$$\r\n",
    "\\begin{aligned}\r\n",
    "E[l] &= P(\\text{second is white}) \\times 1 + P(\\text{second is black}) \\times (E[l] + 1) \\\\\r\n",
    "     &= \\frac 1 2 + \\frac 1 2 \\times (E[l] + 1) \\\\\r\n",
    "E[l] &= 2\r\n",
    "\\end{aligned}\r\n",
    "$$\r\n"
   ],
   "metadata": {}
  },
  {
   "cell_type": "markdown",
   "source": [
    "# Expected Area of Region on Random Binary Image\r\n",
    "\r\n",
    "Maybe we can do similar math on 2D problem. Let's saya the area (say it's black) is $A$. Then\r\n",
    "$$\r\n",
    "A = \\sum_{i=0}^{n} s_i\r\n",
    "$$\r\n",
    "where $s_i$ is the number of black pixels of $i$-th line of the region. And\r\n",
    "$$\r\n",
    "s_i = \\sum_{j=0}^{m_i} l_{ij}\r\n",
    "$$\r\n",
    "where $l_{ij}$ is the length of one continus black segment on $i$-th line. There should be $m_i$ black segments and a total of $2m_i + 1$ segments on $i$-th line. \r\n",
    "\r\n",
    "We know that $E[l] = 2$. Therefore $E[s] = 2E[m]$.\r\n",
    "However, it is hard to tell how many lines is a region expected to have, as well as how many segments is a line supposed to have.\r\n",
    "\r\n",
    "Consider a line of a black region. If the next line has white pixels on corresponding positions of every black pixels in this line, then the region ends here. Otherwise we still have a line. Therefore,\r\n",
    "$$\r\n",
    "\\begin{aligned}\r\n",
    "E[n] &= 2^{-E[s]} \\times 1 + (1-2^{-E[s]}) \\times (E[n] + 1) \\\\\r\n",
    "     &= 1 + (1-2^{-E[s]}) E[n] \\\\\r\n",
    "E[n] &= 2^{E[s]} = 2^{2E[m]} \\\\\r\n",
    "     &= 4^{E[m]}\r\n",
    "\\end{aligned}\r\n",
    "$$\r\n",
    "\r\n",
    "Now it leaves us the final question: how to calculate $E[m]$. \r\n"
   ],
   "metadata": {}
  },
  {
   "cell_type": "markdown",
   "source": [
    "# Wrong Solution\r\n",
    "\r\n",
    "At first I thought the two dimensions of the image are symmetric. Therefore length of all pixels (black and white) is expected to be the same as the number of lines $n$. Therefore we have\r\n",
    "$$\r\n",
    "\\begin{aligned}\r\n",
    "E[n] &= E[\\sum_{j=0}^{m_i} l_{ij} + \\sum_{j=0}^{m_i-1} l_{ij}'] \\\\\r\n",
    "     &= (2E[m] - 1) \\times 2 \\\\\r\n",
    "     &= 4E[m] - 2\r\n",
    "\\end{aligned}\r\n",
    "$$\r\n",
    "\r\n",
    "Therefore we have an equation for $E[m]$:\r\n",
    "$$\r\n",
    "4^{E[m]} - 4E[m] + 2 = 0\r\n",
    "$$\r\n",
    "\r\n",
    "Yet this equation does not have solution.\r\n",
    "\r\n",
    "Then I realized that $n$ should be the length of the longest line, and maybe we can find it using the distribution of line length.\r\n",
    "\r\n",
    "And again I realized that's incorrect too. $n$ should be larger than the length of the longest line, because there might be multiple long lines with position offsets.\r\n",
    "\r\n",
    "There I'm done. No new idea now. Let's run some simulations then maybe we can find some new ideas.\r\n"
   ],
   "metadata": {}
  }
 ],
 "metadata": {
  "orig_nbformat": 4,
  "language_info": {
   "name": "python",
   "version": "3.8.5",
   "mimetype": "text/x-python",
   "codemirror_mode": {
    "name": "ipython",
    "version": 3
   },
   "pygments_lexer": "ipython3",
   "nbconvert_exporter": "python",
   "file_extension": ".py"
  },
  "kernelspec": {
   "name": "python3",
   "display_name": "Python 3.8.5 64-bit ('base': conda)"
  },
  "interpreter": {
   "hash": "cf6c3ae2e77dcc52f2ada8cf28a35b21796670951709c95e82006349f2fcc57f"
  }
 },
 "nbformat": 4,
 "nbformat_minor": 2
}