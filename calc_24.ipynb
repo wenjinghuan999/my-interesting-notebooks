{
 "cells": [
  {
   "cell_type": "markdown",
   "metadata": {},
   "source": [
    "# Calculate 24\n",
    "\n",
    "Calculate 24 from given numbers using +, -, *, /."
   ]
  },
  {
   "cell_type": "code",
   "execution_count": 22,
   "metadata": {},
   "outputs": [],
   "source": [
    "from typing import Callable, Optional, Collection, Iterable, List, Set\n",
    "import itertools\n",
    "from fractions import Fraction\n",
    "from operator import add, sub, mul, truediv\n",
    "\n",
    "class Expr:\n",
    "    def __init__(self, lhs: Optional['Expr'] = None, op: Optional[Callable] = None, rhs: Optional['Expr'] = None, *, value: Optional[Fraction] = None) -> None:\n",
    "        if op is not None:\n",
    "            assert(lhs is not None and rhs is not None)\n",
    "            self.value = op(lhs.value, rhs.value)\n",
    "        else:\n",
    "            assert(lhs is None and rhs is None and value is not None)\n",
    "            self.value = value\n",
    "        self.op = op\n",
    "        self.lhs = lhs\n",
    "        self.rhs = rhs\n",
    "    \n",
    "    def __add__(self, other: 'Expr') -> 'Expr':\n",
    "        return Expr(self, add, other)\n",
    "    def __sub__(self, other: 'Expr') -> 'Expr':\n",
    "        return Expr(self, sub, other)\n",
    "    def __mul__(self, other: 'Expr') -> 'Expr':\n",
    "        return Expr(self, mul, other)\n",
    "    def __truediv__(self, other: 'Expr') -> 'Expr':\n",
    "        return Expr(self, truediv, other)\n",
    "    \n",
    "    def __lt__(self, other: 'Expr') -> bool:\n",
    "        if self.value != other.value:\n",
    "            return self.value < other.value\n",
    "        else:\n",
    "            order = [add, sub, mul, truediv, None]\n",
    "            if order.index(self.op) != order.index(other.op):\n",
    "                return order.index(self.op) < order.index(other.op)\n",
    "            elif self.lhs is None and other.lhs is None:\n",
    "                return self.value < other.value\n",
    "            elif self.lhs is None:\n",
    "                return False\n",
    "            elif other.lhs is None:\n",
    "                return True\n",
    "            elif self.lhs != other.lhs:\n",
    "                return self.lhs < other.lhs\n",
    "            else:\n",
    "                assert(self.rhs is not None and other.rhs is not None)\n",
    "                return self.rhs < other.rhs\n",
    "    def __gt__(self, other: 'Expr') -> bool:\n",
    "        return other < self\n",
    "    def __eq__(self, other: 'Expr') -> bool:\n",
    "        return self.value == other.value and self.op == other.op and self.lhs == other.lhs and self.rhs == other.rhs\n",
    "    def __ne__(self, other: 'Expr') -> bool:\n",
    "        return not (self == other)\n",
    "    def __le__(self, other: 'Expr') -> bool:\n",
    "        return not (other < self)\n",
    "    def __ge__(self, other: 'Expr') -> bool:\n",
    "        return not (self < other)\n",
    "\n",
    "    def __repr__(self) -> str:\n",
    "        if self.op is None:\n",
    "            return str(self.value)\n",
    "        else:\n",
    "            assert(self.lhs is not None and self.rhs is not None)\n",
    "            if self.op == add:\n",
    "                lhs_str = f'{self.lhs}'\n",
    "                rhs_str = f'{self.rhs}'\n",
    "                if self.lhs > self.rhs:\n",
    "                    lhs_str, rhs_str = rhs_str, lhs_str\n",
    "                return f'{self.lhs}+{self.rhs}'\n",
    "            elif self.op == sub:\n",
    "                rhs_str = f'({self.rhs})' if self.rhs.op in [add, sub] else f'{self.rhs}'\n",
    "                return f'{self.lhs}-{rhs_str}'\n",
    "            elif self.op == mul:\n",
    "                lhs_str = f'({self.lhs})' if self.lhs.op in [add, sub] else f'{self.lhs}'\n",
    "                rhs_str = f'({self.rhs})' if self.rhs.op in [add, sub] else f'{self.rhs}'\n",
    "                if self.lhs > self.rhs:\n",
    "                    lhs_str, rhs_str = rhs_str, lhs_str\n",
    "                return f'{lhs_str}*{rhs_str}'\n",
    "            elif self.op == truediv:\n",
    "                lhs_str = f'({self.lhs})' if self.lhs.op in [add, sub] else f'{self.lhs}'\n",
    "                rhs_str = f'({self.rhs})' if self.rhs.op in [add, sub, truediv] else f'{self.rhs}'\n",
    "                return f'{lhs_str}/{rhs_str}'\n",
    "            else:\n",
    "                raise ValueError\n",
    "\n",
    "\n",
    "def build_expr(candidates: List[Expr]) -> List[Expr]:\n",
    "    '''\n",
    "    choose from candidates and build them to one expression\n",
    "    return all the possible results\n",
    "    '''\n",
    "    if len(candidates) == 1:\n",
    "        return list(candidates)\n",
    "\n",
    "    result: List[Expr] = []\n",
    "    for i, j in itertools.combinations(range(len(candidates)), 2):\n",
    "        new_candidates = list(candidates)\n",
    "        ej = new_candidates.pop(j) # i < j\n",
    "        ei = new_candidates.pop(i)\n",
    "        new_candidates.insert(0, ei + ej)\n",
    "        result += build_expr(new_candidates)\n",
    "        new_candidates[0] = ei - ej\n",
    "        result += build_expr(new_candidates)\n",
    "        new_candidates[0] = ej - ei\n",
    "        result += build_expr(new_candidates)\n",
    "        new_candidates[0] = ei * ej\n",
    "        result += build_expr(new_candidates)\n",
    "        try:\n",
    "            new_candidates[0] = ei / ej\n",
    "            result += build_expr(new_candidates)\n",
    "        except ZeroDivisionError:\n",
    "            pass\n",
    "        try:\n",
    "            new_candidates[0] = ej / ei\n",
    "            result += build_expr(new_candidates)\n",
    "        except ZeroDivisionError:\n",
    "            pass\n",
    "    return result\n",
    "\n",
    "\n",
    "def calc_24(arr: Iterable[int], target=24):\n",
    "    return list(set([str(expr) for expr in build_expr([Expr(value=Fraction(x)) for x in arr]) if expr.value == target]))\n"
   ]
  },
  {
   "cell_type": "code",
   "execution_count": 23,
   "metadata": {},
   "outputs": [
    {
     "name": "stdout",
     "output_type": "stream",
     "text": [
      "(3/7+3)*7\n"
     ]
    }
   ],
   "source": [
    "for eq in calc_24([3, 3, 7, 7]):\n",
    "    print(eq)"
   ]
  },
  {
   "cell_type": "code",
   "execution_count": 24,
   "metadata": {},
   "outputs": [
    {
     "name": "stdout",
     "output_type": "stream",
     "text": [
      "(8*10-8)/3\n"
     ]
    }
   ],
   "source": [
    "for eq in calc_24([8, 8, 10, 3]):\n",
    "    print(eq)"
   ]
  },
  {
   "cell_type": "code",
   "execution_count": 25,
   "metadata": {},
   "outputs": [
    {
     "name": "stdout",
     "output_type": "stream",
     "text": [
      "(1+3)*(1+5)\n"
     ]
    }
   ],
   "source": [
    "for eq in calc_24([1, 1, 3, 5]):\n",
    "    print(eq)"
   ]
  },
  {
   "cell_type": "code",
   "execution_count": 35,
   "metadata": {},
   "outputs": [
    {
     "name": "stdout",
     "output_type": "stream",
     "text": [
      "6/(5/4-1)\n",
      "4/(1-5/6)\n"
     ]
    }
   ],
   "source": [
    "for eq in calc_24([1, 4, 5, 6]):\n",
    "    print(eq)"
   ]
  }
 ],
 "metadata": {
  "kernelspec": {
   "display_name": "Python 3.8.5 ('base')",
   "language": "python",
   "name": "python3"
  },
  "language_info": {
   "codemirror_mode": {
    "name": "ipython",
    "version": 3
   },
   "file_extension": ".py",
   "mimetype": "text/x-python",
   "name": "python",
   "nbconvert_exporter": "python",
   "pygments_lexer": "ipython3",
   "version": "3.8.5"
  },
  "orig_nbformat": 4,
  "vscode": {
   "interpreter": {
    "hash": "ca109ec8c936f20eb8b5a0661a80bf6b6f810afbcf7593d54f0c2fd6242c2e8d"
   }
  }
 },
 "nbformat": 4,
 "nbformat_minor": 2
}
