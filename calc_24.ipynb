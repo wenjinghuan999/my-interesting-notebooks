{
 "cells": [
  {
   "cell_type": "markdown",
   "metadata": {},
   "source": [
    "# Calculate 24\n",
    "\n",
    "Calculate 24 from given numbers using +, -, *, /."
   ]
  },
  {
   "cell_type": "code",
   "execution_count": 1,
   "metadata": {},
   "outputs": [],
   "source": [
    "from typing import Iterable, List, Set\n",
    "import itertools    \n",
    "from fractions import Fraction\n",
    "\n",
    "\n",
    "def calc_expr_binary(a: Fraction, b: Fraction, op: str) -> Fraction:\n",
    "    if op == '+':\n",
    "        return a + b\n",
    "    elif op == '-':\n",
    "        return a - b\n",
    "    elif op == '!-':\n",
    "        return b - a\n",
    "    elif op == '*':\n",
    "        return a * b\n",
    "    elif op == '/':\n",
    "        return a / b\n",
    "    else:\n",
    "        return b / a\n",
    "\n",
    "\n",
    "def calc_expr(arr: Iterable[int], ops: Iterable[str]):\n",
    "    assert(len(arr) == len(ops) + 1)\n",
    "    result = Fraction(arr[0])\n",
    "    for i in range(len(ops)):\n",
    "        result = calc_expr_binary(result, Fraction(arr[i + 1]), ops[i])\n",
    "    return result\n",
    "\n",
    "\n",
    "def expr_to_str_binary(a: str, b: int, op: str, last_op: str) -> str:\n",
    "    if op in ['+', '-']:\n",
    "        return f'{a}{op}{str(b)}'\n",
    "    elif op in ['!-', '!/']:\n",
    "        if last_op in ['+', '-', '!-']:\n",
    "            return f'{str(b)}{op[1]}({a})'\n",
    "        else:\n",
    "            return f'{str(b)}{op[1]}{a}'\n",
    "    # op in ['*', '/']\n",
    "    elif last_op in ['+', '-', '!-']:\n",
    "        return f'({a}){op}{str(b)}'\n",
    "    else:\n",
    "        return f'{a}{op}{str(b)}'\n",
    "\n",
    "\n",
    "def expr_to_str(arr: Iterable[int], ops: Iterable[str]):\n",
    "    assert(len(arr) == len(ops) + 1)\n",
    "    result: str = str(arr[0])\n",
    "    last_op = ''\n",
    "    for i in range(len(ops)):\n",
    "        result = expr_to_str_binary(result, arr[i + 1], ops[i], last_op)\n",
    "        last_op = ops[i]\n",
    "    return result\n",
    "        \n",
    "\n",
    "def calc_24(arr: Iterable[int]) -> List[str]:\n",
    "    combinations = list(itertools.permutations(arr, 4))\n",
    "    operator_combinations = list(itertools.product(['+', '-', '!-', '*', '/', '!/'], repeat=3))\n",
    "    results: Set[str] = set()\n",
    "    for items in combinations:\n",
    "        for ops in operator_combinations:\n",
    "            try:\n",
    "                if calc_expr([Fraction(x) for x in items], ops) == 24:\n",
    "                    results.add(expr_to_str(items, ops))\n",
    "            except ZeroDivisionError:\n",
    "                pass\n",
    "    return list(results)"
   ]
  },
  {
   "cell_type": "code",
   "execution_count": 2,
   "metadata": {},
   "outputs": [
    {
     "name": "stdout",
     "output_type": "stream",
     "text": [
      "(3/7+3)*7\n"
     ]
    }
   ],
   "source": [
    "for eq in calc_24([3, 3, 7, 7]):\n",
    "    print(eq)"
   ]
  },
  {
   "cell_type": "code",
   "execution_count": 3,
   "metadata": {},
   "outputs": [
    {
     "name": "stdout",
     "output_type": "stream",
     "text": [
      "(10*8-8)/3\n",
      "(8*10-8)/3\n"
     ]
    }
   ],
   "source": [
    "for eq in calc_24([8, 8, 10, 3]):\n",
    "    print(eq)"
   ]
  }
 ],
 "metadata": {
  "kernelspec": {
   "display_name": "Python 3.8.5 ('base')",
   "language": "python",
   "name": "python3"
  },
  "language_info": {
   "codemirror_mode": {
    "name": "ipython",
    "version": 3
   },
   "file_extension": ".py",
   "mimetype": "text/x-python",
   "name": "python",
   "nbconvert_exporter": "python",
   "pygments_lexer": "ipython3",
   "version": "3.8.5"
  },
  "orig_nbformat": 4,
  "vscode": {
   "interpreter": {
    "hash": "2afdca8f70b9f9f77c5d249cdce1221fa9bba527d701426b4b260e465f8ff569"
   }
  }
 },
 "nbformat": 4,
 "nbformat_minor": 2
}
