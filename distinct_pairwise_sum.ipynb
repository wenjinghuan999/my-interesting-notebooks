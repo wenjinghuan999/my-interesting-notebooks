{
 "cells": [
  {
   "cell_type": "markdown",
   "metadata": {},
   "source": [
    "# Distinct Pairwise Sum Sequence\n",
    "\n",
    "Consider a sequence of 10 distinct positive intergers. Each pair of them has a distinct sum. What is the smallest possible value of the largest number of such sequence?"
   ]
  },
  {
   "cell_type": "markdown",
   "metadata": {},
   "source": [
    "## Generate One\n",
    "\n",
    "It is not hard to generate one such sequence using greedy search.\n",
    "Such as the first 10 numbers of sequence [A011185](https://oeis.org/A011185)."
   ]
  },
  {
   "cell_type": "code",
   "execution_count": 7,
   "metadata": {},
   "outputs": [
    {
     "name": "stdout",
     "output_type": "stream",
     "text": [
      "[1, 2, 3, 5, 8, 13, 21, 30, 39, 53]\n"
     ]
    }
   ],
   "source": [
    "# increasing sequence such that each pair of numbers has a distinct sum\n",
    "\n",
    "def generator():\n",
    "    a, numbers, sums = 1, [], set()\n",
    "    while True:\n",
    "        for i in numbers:\n",
    "            if a + i in sums:\n",
    "                break\n",
    "        else:\n",
    "            for i in numbers:\n",
    "                sums.add(a + i)\n",
    "            numbers.append(a)\n",
    "            yield a\n",
    "        a += 1\n",
    "\n",
    "g = generator()\n",
    "print([next(g) for _ in range(10)])"
   ]
  },
  {
   "cell_type": "markdown",
   "metadata": {},
   "source": [
    "## Verification\n",
    "\n",
    "But is $53$ the answer to the initial question? Maybe not.\n",
    "We should iterate all possible sequences with largest number $52$ to verify it."
   ]
  },
  {
   "cell_type": "code",
   "execution_count": 4,
   "metadata": {},
   "outputs": [
    {
     "name": "stdout",
     "output_type": "stream",
     "text": [
      "(1, 2, 3, 5, 8, 14, 23, 33, 41, 49)\n"
     ]
    }
   ],
   "source": [
    "# confirm there is no smaller solution\n",
    "\n",
    "import itertools\n",
    "\n",
    "def check_valid(sequence):\n",
    "    sums = set()\n",
    "    for i in range(10):\n",
    "        for j in range(i + 1, 10):\n",
    "            if sequence[i] + sequence[j] in sums:\n",
    "                return False\n",
    "            sums.add(sequence[i] + sequence[j])\n",
    "    return True\n",
    "\n",
    "for sequence in itertools.combinations(range(1, 53), 10):\n",
    "    if check_valid(sequence):\n",
    "        print(sequence)\n",
    "        break\n",
    "else:\n",
    "    print('no smaller solution')"
   ]
  },
  {
   "cell_type": "markdown",
   "metadata": {},
   "source": [
    "## Best Result\n",
    "\n",
    "The program above would take some time to run. Because there are $1.5\\times 10^{10}$ such combinations. But it's OK.\n",
    "It took my computer about 30 seconds to find a better solution.\n",
    "\n",
    "If we remove the `break` in the program above, it shows multiple results. Among which we can see even smaller result.\n",
    "Let's modify our program and find the best one.\n",
    "\n",
    "The key is to generate combination sequence with increasing largest numbers.\n",
    "\n",
    "Also, the current algorithm makes a set `sums` of 45 elements to verify each sequence. We should find a faster way.\n",
    "\n",
    "We notice that if a sequence $\\{a_n\\}$ is a sequence with distinct pairwise sum, $\\{a_n + m\\}$ is also a sequence with distinct pairwise sum. Therefore, a unique distinct-pairwise-sum sequence can be represented by the difference between each element and its first element. \n",
    "\n",
    "Let $\\{b_n\\} = \\{a_{n + 1} - a_1\\}, (1\\le n \\lt N)$. E.g. for $\\{a_n\\} = \\{1, 2, 3, 5\\}$, $\\{b_n\\} = \\{ 1, 2, 4 \\}$. So that another sequence starting with $3$: $\\{3, 4, 5, 7\\}$ is also a distinct-pairwise-sum sequence.\n",
    "\n",
    "Then we notice that $\\{b_n\\}$ should also have distinct pairwise sum. Otherwise if some $b_i + b_j = b_k + b_l, (1\\le i,j,k,l \\lt N)$, we would have $a_{i+1} + a_{j+1} = a_{k+1} + a_{l+1}, (1\\le i,j,k,l \\le N)$.\n",
    "\n",
    "So if we find a sequence $\\{b_n\\}$ of length $N - 1$, we can find many sequences $\\{a_n\\}$ of length $N$.\n",
    "\n",
    "If we limit the largest number of $a_n \\le A$, we can find all distinct-pairwise-sum sequences of length $N$:\n",
    "- Starting from $N = 0$, the only distinct-pairwise-sum sequences of length $0$ with largest number $\\le A-N$ is $\\{\\}$.\n",
    "- If we found all distinct-pairwise-sum sequences of length $n$ with largest number $\\le A-N+n$, adding a number $a_1 \\ge 1$ would make a new distinct-pairwise-sum sequences of length $n + 1$ with largest number $\\le A-N+n+1$. There are about $A - N + n$ such new sequences (to garantee the largest number do not exceed).\n",
    "\n",
    "To check whether the newly created sequence is distinct-pairwise-sum sequence, we already checked pairwise sums for $b_n$, so we just want to make sure pairs with new $a_1$ would not have duplicated sum:\n",
    "$$ a_1 + (b_i + a_1) \\notin \\{ (b_j + a_1) + (b_k + a_1) \\} $$\n",
    "which can be simplified to\n",
    "$$ b_i \\notin \\{ b_j + b_k \\} $$\n",
    "\n",
    "We can start with $A=46$ to find best solution."
   ]
  },
  {
   "cell_type": "code",
   "execution_count": 49,
   "metadata": {},
   "outputs": [
    {
     "name": "stdout",
     "output_type": "stream",
     "text": [
      "n = 1 , largest num = 37 , num of sequences = 37\n",
      "n = 2 , largest num = 38 , num of sequences = 703\n",
      "n = 3 , largest num = 39 , num of sequences = 9139\n",
      "n = 4 , largest num = 40 , num of sequences = 86640\n",
      "n = 5 , largest num = 41 , num of sequences = 571608\n",
      "n = 6 , largest num = 42 , num of sequences = 2240888\n",
      "n = 7 , largest num = 43 , num of sequences = 3742288\n",
      "n = 8 , largest num = 44 , num of sequences = 1462854\n",
      "n = 9 , largest num = 45 , num of sequences = 50520\n",
      "n = 10 , largest num = 46 , num of sequences = 2\n",
      "Best solutions:\n",
      "Sequence: [1, 3, 5, 20, 25, 33, 36, 39, 45, 46]\n",
      "Sums: {4, 6, 8, 21, 23, 25, 26, 28, 30, 34, 36, 37, 38, 39, 40, 41, 42, 44, 45, 46, 47, 48, 49, 50, 51, 53, 56, 58, 59, 61, 64, 65, 66, 69, 70, 71, 72, 75, 78, 79, 81, 82, 84, 85, 91}\n",
      "Sequence: [1, 2, 8, 11, 14, 22, 27, 42, 44, 46]\n",
      "Sums: {3, 9, 10, 12, 13, 15, 16, 19, 22, 23, 24, 25, 28, 29, 30, 33, 35, 36, 38, 41, 43, 44, 45, 46, 47, 48, 49, 50, 52, 53, 54, 55, 56, 57, 58, 60, 64, 66, 68, 69, 71, 73, 86, 88, 90}\n"
     ]
    }
   ],
   "source": [
    "# find best solution\n",
    "\n",
    "def check_valid(sequence, sums):\n",
    "    for ai in sequence:\n",
    "        # if a1 + new_ai in new_sums\n",
    "        # i.e. a1 + (ai + a1) = (aj + a1) + (ak + a1)\n",
    "        # then ai in sums\n",
    "        if ai in sums:\n",
    "            return False\n",
    "    return True\n",
    "\n",
    "A = 46\n",
    "N = 10\n",
    "sequences = [([i], set()) for i in range(1, A - N + 2)]\n",
    "print('n =', 1, ', largest num =', A - N + 1, ', num of sequences =', len(sequences))\n",
    "for n in range(2, N + 1):\n",
    "    max_num = A - N + n\n",
    "    new_sequences = []\n",
    "    for sequence, sums in sequences:\n",
    "        if check_valid(sequence, sums):\n",
    "            for a1 in range(1, max_num - sequence[-1] + 1):\n",
    "                new_sequence = [a1] + [ai + a1 for ai in sequence]\n",
    "                new_sums = {s + a1 + a1 for s in sums} | {ai + a1 + a1 for ai in sequence}\n",
    "                new_sequences.append((new_sequence, new_sums))\n",
    "    sequences = new_sequences\n",
    "    print('n =', n, ', largest num =', A - N + n, ', num of sequences =', len(sequences))\n",
    "\n",
    "if sequences:\n",
    "    print('Best solutions:')\n",
    "    for sequence, sums in sequences:\n",
    "        print('Sequence:', sequence)\n",
    "        print('Sums:', sums)\n",
    "else:\n",
    "    print('No solution')\n"
   ]
  },
  {
   "cell_type": "markdown",
   "metadata": {},
   "source": [
    "## Solution\n",
    "\n",
    "We found 2 solutions with largest number to be $46$. Great!\n",
    "\n",
    "Now, to find the smallest solution:"
   ]
  },
  {
   "cell_type": "code",
   "execution_count": 54,
   "metadata": {},
   "outputs": [
    {
     "name": "stdout",
     "output_type": "stream",
     "text": [
      "No solution for A = 10 , Number of sequences for each n: [1, 1, 1, 0, 0, 0, 0, 0, 0, 0]\n",
      "No solution for A = 11 , Number of sequences for each n: [2, 3, 4, 2, 0, 0, 0, 0, 0, 0]\n",
      "No solution for A = 12 , Number of sequences for each n: [3, 6, 10, 8, 0, 0, 0, 0, 0, 0]\n",
      "No solution for A = 13 , Number of sequences for each n: [4, 10, 20, 22, 2, 0, 0, 0, 0, 0]\n",
      "No solution for A = 14 , Number of sequences for each n: [5, 15, 35, 48, 14, 0, 0, 0, 0, 0]\n",
      "No solution for A = 15 , Number of sequences for each n: [6, 21, 56, 92, 40, 0, 0, 0, 0, 0]\n",
      "No solution for A = 16 , Number of sequences for each n: [7, 28, 84, 160, 102, 0, 0, 0, 0, 0]\n",
      "No solution for A = 17 , Number of sequences for each n: [8, 36, 120, 260, 214, 4, 0, 0, 0, 0]\n",
      "No solution for A = 18 , Number of sequences for each n: [9, 45, 165, 400, 408, 24, 0, 0, 0, 0]\n",
      "No solution for A = 19 , Number of sequences for each n: [10, 55, 220, 590, 714, 92, 0, 0, 0, 0]\n",
      "No solution for A = 20 , Number of sequences for each n: [11, 66, 286, 840, 1186, 236, 0, 0, 0, 0]\n",
      "No solution for A = 21 , Number of sequences for each n: [12, 78, 364, 1162, 1866, 564, 0, 0, 0, 0]\n",
      "No solution for A = 22 , Number of sequences for each n: [13, 91, 455, 1568, 2832, 1148, 4, 0, 0, 0]\n",
      "No solution for A = 23 , Number of sequences for each n: [14, 105, 560, 2072, 4150, 2152, 18, 0, 0, 0]\n",
      "No solution for A = 24 , Number of sequences for each n: [15, 120, 680, 2688, 5922, 3756, 90, 0, 0, 0]\n",
      "No solution for A = 25 , Number of sequences for each n: [16, 136, 816, 3432, 8240, 6320, 270, 0, 0, 0]\n",
      "No solution for A = 26 , Number of sequences for each n: [17, 153, 969, 4320, 11238, 10040, 694, 0, 0, 0]\n",
      "No solution for A = 27 , Number of sequences for each n: [18, 171, 1140, 5370, 15034, 15500, 1558, 2, 0, 0]\n",
      "No solution for A = 28 , Number of sequences for each n: [19, 190, 1330, 6600, 19800, 23116, 3246, 6, 0, 0]\n",
      "No solution for A = 29 , Number of sequences for each n: [20, 210, 1540, 8030, 25688, 33640, 6252, 24, 0, 0]\n",
      "No solution for A = 30 , Number of sequences for each n: [21, 231, 1771, 9680, 32904, 47764, 11478, 76, 0, 0]\n",
      "No solution for A = 31 , Number of sequences for each n: [22, 253, 2024, 11572, 41640, 66608, 19814, 252, 0, 0]\n",
      "No solution for A = 32 , Number of sequences for each n: [23, 276, 2300, 13728, 52148, 90996, 33186, 632, 0, 0]\n",
      "No solution for A = 33 , Number of sequences for each n: [24, 300, 2600, 16172, 64656, 122548, 53224, 1554, 0, 0]\n",
      "No solution for A = 34 , Number of sequences for each n: [25, 325, 2925, 18928, 79464, 162500, 82826, 3282, 0, 0]\n",
      "No solution for A = 35 , Number of sequences for each n: [26, 351, 3276, 22022, 96848, 212836, 125088, 6820, 0, 0]\n",
      "No solution for A = 36 , Number of sequences for each n: [27, 378, 3654, 25480, 117156, 275272, 185326, 12942, 6, 0]\n",
      "No solution for A = 37 , Number of sequences for each n: [28, 406, 4060, 29330, 140714, 352436, 267476, 23944, 24, 0]\n",
      "No solution for A = 38 , Number of sequences for each n: [29, 435, 4495, 33600, 167926, 446400, 379806, 42062, 84, 0]\n",
      "No solution for A = 39 , Number of sequences for each n: [30, 465, 4960, 38320, 199168, 560588, 529096, 72086, 246, 0]\n",
      "No solution for A = 40 , Number of sequences for each n: [31, 496, 5456, 43520, 234906, 697780, 726548, 118500, 664, 0]\n",
      "No solution for A = 41 , Number of sequences for each n: [32, 528, 5984, 49232, 275574, 861976, 982350, 191006, 1562, 0]\n",
      "No solution for A = 42 , Number of sequences for each n: [33, 561, 6545, 55488, 321696, 1056748, 1313050, 297910, 3442, 0]\n",
      "No solution for A = 43 , Number of sequences for each n: [34, 595, 7140, 62322, 373770, 1287148, 1731434, 458406, 7084, 0]\n",
      "No solution for A = 44 , Number of sequences for each n: [35, 630, 7770, 69768, 432390, 1557328, 2261832, 687214, 14336, 0]\n",
      "No solution for A = 45 , Number of sequences for each n: [36, 666, 8436, 77862, 498114, 1873508, 2922442, 1012580, 27202, 0]\n",
      "Found solution for A = 46 Number of sequences for each n: [37, 703, 9139, 86640, 571608, 2240888, 3742288, 1462854, 50520, 2]\n",
      "Best solutions:\n",
      "Sequence: [1, 3, 5, 20, 25, 33, 36, 39, 45, 46]\n",
      "Sums: {4, 6, 8, 21, 23, 25, 26, 28, 30, 34, 36, 37, 38, 39, 40, 41, 42, 44, 45, 46, 47, 48, 49, 50, 51, 53, 56, 58, 59, 61, 64, 65, 66, 69, 70, 71, 72, 75, 78, 79, 81, 82, 84, 85, 91}\n",
      "Sequence: [1, 2, 8, 11, 14, 22, 27, 42, 44, 46]\n",
      "Sums: {3, 9, 10, 12, 13, 15, 16, 19, 22, 23, 24, 25, 28, 29, 30, 33, 35, 36, 38, 41, 43, 44, 45, 46, 47, 48, 49, 50, 52, 53, 54, 55, 56, 57, 58, 60, 64, 66, 68, 69, 71, 73, 86, 88, 90}\n"
     ]
    }
   ],
   "source": [
    "# find best solution\n",
    "\n",
    "def check_valid(sequence, sums):\n",
    "    for ai in sequence:\n",
    "        # if a1 + new_ai in new_sums\n",
    "        # i.e. a1 + (ai + a1) = (aj + a1) + (ak + a1)\n",
    "        # then ai in sums\n",
    "        if ai in sums:\n",
    "            return False\n",
    "    return True\n",
    "\n",
    "N = 10\n",
    "for A in range(10, 47):\n",
    "    num_of_sequences = []\n",
    "    sequences = [([i], set()) for i in range(1, A - N + 2)]\n",
    "    num_of_sequences.append(len(sequences))\n",
    "    for n in range(2, N + 1):\n",
    "        max_num = A - N + n\n",
    "        new_sequences = []\n",
    "        for sequence, sums in sequences:\n",
    "            if check_valid(sequence, sums):\n",
    "                for a1 in range(1, max_num - sequence[-1] + 1):\n",
    "                    new_sequence = [a1] + [ai + a1 for ai in sequence]\n",
    "                    new_sums = {s + a1 + a1 for s in sums} | {ai + a1 + a1 for ai in sequence}\n",
    "                    new_sequences.append((new_sequence, new_sums))\n",
    "        sequences = new_sequences\n",
    "        num_of_sequences.append(len(sequences))\n",
    "\n",
    "    if sequences:\n",
    "        print('Found solution for A =', A, 'Number of sequences for each n:', num_of_sequences)\n",
    "        print('Best solutions:')\n",
    "        for sequence, sums in sequences:\n",
    "            print('Sequence:', sequence)\n",
    "            print('Sums:', sums)\n",
    "    else:\n",
    "        print('No solution for A =', A, ', Number of sequences for each n:', num_of_sequences)"
   ]
  }
 ],
 "metadata": {
  "kernelspec": {
   "display_name": "Python 3",
   "language": "python",
   "name": "python3"
  },
  "language_info": {
   "codemirror_mode": {
    "name": "ipython",
    "version": 3
   },
   "file_extension": ".py",
   "mimetype": "text/x-python",
   "name": "python",
   "nbconvert_exporter": "python",
   "pygments_lexer": "ipython3",
   "version": "3.11.0"
  }
 },
 "nbformat": 4,
 "nbformat_minor": 2
}
