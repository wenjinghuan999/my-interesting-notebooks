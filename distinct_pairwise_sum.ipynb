{
 "cells": [
  {
   "cell_type": "markdown",
   "metadata": {},
   "source": [
    "# Distinct Pairwise Sum Sequence\n",
    "\n",
    "Consider a sequence of 10 distinct positive intergers. Each pair of them has a distinct sum. What is the smallest possible value of the largest number of such sequence?"
   ]
  },
  {
   "cell_type": "markdown",
   "metadata": {},
   "source": [
    "## Generate One\n",
    "\n",
    "It is not hard to generate one such sequence using greedy search.\n",
    "Such as the first 10 numbers of sequence [A011185](https://oeis.org/A011185)."
   ]
  },
  {
   "cell_type": "code",
   "execution_count": 7,
   "metadata": {},
   "outputs": [
    {
     "name": "stdout",
     "output_type": "stream",
     "text": [
      "[1, 2, 3, 5, 8, 13, 21, 30, 39, 53]\n"
     ]
    }
   ],
   "source": [
    "# increasing sequence such that each pair of numbers has a distinct sum\n",
    "\n",
    "def generator():\n",
    "    a, numbers, sums = 1, [], set()\n",
    "    while True:\n",
    "        for i in numbers:\n",
    "            if a + i in sums:\n",
    "                break\n",
    "        else:\n",
    "            for i in numbers:\n",
    "                sums.add(a + i)\n",
    "            numbers.append(a)\n",
    "            yield a\n",
    "        a += 1\n",
    "\n",
    "g = generator()\n",
    "print([next(g) for _ in range(10)])"
   ]
  },
  {
   "cell_type": "markdown",
   "metadata": {},
   "source": [
    "## Verification\n",
    "\n",
    "But is $53$ the answer to the initial question? Maybe not.\n",
    "We should iterate all possible sequences with largest number $52$ to verify it."
   ]
  },
  {
   "cell_type": "code",
   "execution_count": 4,
   "metadata": {},
   "outputs": [
    {
     "name": "stdout",
     "output_type": "stream",
     "text": [
      "(1, 2, 3, 5, 8, 14, 23, 33, 41, 49)\n"
     ]
    }
   ],
   "source": [
    "# confirm there is no smaller solution\n",
    "\n",
    "import itertools\n",
    "\n",
    "def check_valid(sequence):\n",
    "    sums = set()\n",
    "    for i in range(10):\n",
    "        for j in range(i + 1, 10):\n",
    "            if sequence[i] + sequence[j] in sums:\n",
    "                return False\n",
    "            sums.add(sequence[i] + sequence[j])\n",
    "    return True\n",
    "\n",
    "for sequence in itertools.combinations(range(1, 53), 10):\n",
    "    if check_valid(sequence):\n",
    "        print(sequence)\n",
    "        break\n",
    "else:\n",
    "    print('no smaller solution')"
   ]
  },
  {
   "cell_type": "markdown",
   "metadata": {},
   "source": [
    "## Best Result\n",
    "\n",
    "The program above would take some time to run. Because there are $1.5\\times 10^{10}$ such combinations. But it's OK.\n",
    "It took my computer about 30 seconds to find a better solution.\n",
    "\n",
    "If we remove the `break` in the program above, it shows multiple results. Among which we can see even smaller result.\n",
    "Let's modify our program and find the best one.\n",
    "\n",
    "The key is to generate combination sequence with increasing largest numbers.\n",
    "\n",
    "Also, the current algorithm makes a set `sums` of 45 elements to verify each sequence. We should find a faster way.\n",
    "\n",
    "We notice that if a sequence $\\{a_n\\}$ is a sequence with distinct pairwise sum, $\\{a_n + m\\}$ is also a sequence with distinct pairwise sum. Therefore, a unique distinct-pairwise-sum sequence can be represented by the difference between each element and its first element. \n",
    "\n",
    "Let $\\{b_n\\} = \\{a_{n + 1} - a_1\\}, (1\\le n \\lt N)$. E.g. for $\\{a_n\\} = \\{1, 2, 3, 5\\}$, $\\{b_n\\} = \\{ 1, 2, 4 \\}$. So that another sequence starting with $3$: $\\{3, 4, 5, 7\\}$ is also a distinct-pairwise-sum sequence.\n",
    "\n",
    "Then we notice that $\\{b_n\\}$ should also have distinct pairwise sum. Otherwise if some $b_i + b_j = b_k + b_l, (1\\le i,j,k,l \\lt N)$, we would have $a_{i+1} + a_{j+1} = a_{k+1} + a_{l+1}, (1\\le i,j,k,l \\le N)$.\n",
    "\n",
    "So if we find a sequence $\\{b_n\\}$ of length $N - 1$, we can find many sequences $\\{a_n\\}$ of length $N$.\n",
    "\n",
    "If we limit the largest number of $a_n \\le A$, we can find all distinct-pairwise-sum sequences of length $N$:\n",
    "- Starting from $N = 0$, the only distinct-pairwise-sum sequences of length $0$ with largest number $\\le A-N$ is $\\{\\}$.\n",
    "- If we found all distinct-pairwise-sum sequences of length $n$ with largest number $\\le A-N+n$, adding a number $a_1 \\ge 1$ would make a new distinct-pairwise-sum sequences of length $n + 1$ with largest number $\\le A-N+n+1$. There are about $A - N + n$ such new sequences (to garantee the largest number do not exceed).\n",
    "\n",
    "To check whether the newly created sequence is distinct-pairwise-sum sequence, we already checked pairwise sums for $b_n$, so we just want to make sure pairs with new $a_1$ would not have duplicated sum:\n",
    "$$ a_1 + (b_i + a_1) \\notin \\{ (b_j + a_1) + (b_k + a_1) \\} $$\n",
    "which can be simplified to\n",
    "$$ b_i \\notin \\{ b_j + b_k \\} $$\n",
    "\n",
    "We should also notice that, if some $a_i + a_j = a_k + a_l$, we have $a_i - a_k = a_l - a_j$. Therefore, a distinct-pairwise-sum sequence of length $10$ must have $45$ distinct pairwise differences. So the smallest possible solution should be $46$. We can start with $A=46$ to find best solution."
   ]
  },
  {
   "cell_type": "code",
   "execution_count": 49,
   "metadata": {},
   "outputs": [
    {
     "name": "stdout",
     "output_type": "stream",
     "text": [
      "n = 1 , largest num = 37 , num of sequences = 37\n",
      "n = 2 , largest num = 38 , num of sequences = 703\n",
      "n = 3 , largest num = 39 , num of sequences = 9139\n",
      "n = 4 , largest num = 40 , num of sequences = 86640\n",
      "n = 5 , largest num = 41 , num of sequences = 571608\n",
      "n = 6 , largest num = 42 , num of sequences = 2240888\n",
      "n = 7 , largest num = 43 , num of sequences = 3742288\n",
      "n = 8 , largest num = 44 , num of sequences = 1462854\n",
      "n = 9 , largest num = 45 , num of sequences = 50520\n",
      "n = 10 , largest num = 46 , num of sequences = 2\n",
      "Best solutions:\n",
      "Sequence: [1, 3, 5, 20, 25, 33, 36, 39, 45, 46]\n",
      "Sums: {4, 6, 8, 21, 23, 25, 26, 28, 30, 34, 36, 37, 38, 39, 40, 41, 42, 44, 45, 46, 47, 48, 49, 50, 51, 53, 56, 58, 59, 61, 64, 65, 66, 69, 70, 71, 72, 75, 78, 79, 81, 82, 84, 85, 91}\n",
      "Sequence: [1, 2, 8, 11, 14, 22, 27, 42, 44, 46]\n",
      "Sums: {3, 9, 10, 12, 13, 15, 16, 19, 22, 23, 24, 25, 28, 29, 30, 33, 35, 36, 38, 41, 43, 44, 45, 46, 47, 48, 49, 50, 52, 53, 54, 55, 56, 57, 58, 60, 64, 66, 68, 69, 71, 73, 86, 88, 90}\n"
     ]
    }
   ],
   "source": [
    "# find best solution\n",
    "\n",
    "def check_valid(sequence, sums):\n",
    "    for ai in sequence:\n",
    "        # if a1 + new_ai in new_sums\n",
    "        # i.e. a1 + (ai + a1) = (aj + a1) + (ak + a1)\n",
    "        # then ai in sums\n",
    "        if ai in sums:\n",
    "            return False\n",
    "    return True\n",
    "\n",
    "A = 46\n",
    "N = 10\n",
    "sequences = [([i], set()) for i in range(1, A - N + 2)]\n",
    "print('n =', 1, ', largest num =', A - N + 1, ', num of sequences =', len(sequences))\n",
    "for n in range(2, N + 1):\n",
    "    max_num = A - N + n\n",
    "    new_sequences = []\n",
    "    for sequence, sums in sequences:\n",
    "        if check_valid(sequence, sums):\n",
    "            for a1 in range(1, max_num - sequence[-1] + 1):\n",
    "                new_sequence = [a1] + [ai + a1 for ai in sequence]\n",
    "                new_sums = {s + a1 + a1 for s in sums} | {ai + a1 + a1 for ai in sequence}\n",
    "                new_sequences.append((new_sequence, new_sums))\n",
    "    sequences = new_sequences\n",
    "    print('n =', n, ', largest num =', A - N + n, ', num of sequences =', len(sequences))\n",
    "\n",
    "if sequences:\n",
    "    print('Best solutions:')\n",
    "    for sequence, sums in sequences:\n",
    "        print('Sequence:', sequence)\n",
    "        print('Sums:', sums)\n",
    "else:\n",
    "    print('No solution')\n"
   ]
  },
  {
   "cell_type": "markdown",
   "metadata": {},
   "source": [
    "## Solution\n",
    "\n",
    "We found 2 solutions with largest number to be $46$. Great!"
   ]
  }
 ],
 "metadata": {
  "kernelspec": {
   "display_name": "Python 3",
   "language": "python",
   "name": "python3"
  },
  "language_info": {
   "codemirror_mode": {
    "name": "ipython",
    "version": 3
   },
   "file_extension": ".py",
   "mimetype": "text/x-python",
   "name": "python",
   "nbconvert_exporter": "python",
   "pygments_lexer": "ipython3",
   "version": "3.11.0"
  }
 },
 "nbformat": 4,
 "nbformat_minor": 2
}
