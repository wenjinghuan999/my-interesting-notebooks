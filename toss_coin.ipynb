{
 "cells": [
  {
   "cell_type": "markdown",
   "metadata": {},
   "source": [
    "# Toss a Coin\n",
    "\n",
    "Toss a coin for $32$ times, and $16$ of results are head. Does that prove the probability of head each time tossing a coin is $1/2$?"
   ]
  },
  {
   "cell_type": "markdown",
   "metadata": {},
   "source": [
    "Suppose the probability of head is $p$. Let $A$ be \"16 heads out of 32 tossing\". We have:\n",
    "$$\n",
    "P(A) = {32\\choose 16} p^{16}(1-p)^{16}\n",
    "$$\n",
    "Let's draw a graph to see how $P(A)$ changes with respect to $p$."
   ]
  },
  {
   "cell_type": "code",
   "execution_count": 1,
   "metadata": {},
   "outputs": [
    {
     "data": {
      "text/plain": [
       "[<matplotlib.lines.Line2D at 0x1e6a7c7ffd0>]"
      ]
     },
     "execution_count": 1,
     "metadata": {},
     "output_type": "execute_result"
    },
    {
     "data": {
      "image/png": "[encoded data removed]",
      "text/plain": [
       "<Figure size 432x288 with 1 Axes>"
      ]
     },
     "metadata": {
      "needs_background": "light"
     },
     "output_type": "display_data"
    }
   ],
   "source": [
    "import numpy as np\n",
    "from math import comb\n",
    "from matplotlib import pyplot as plt\n",
    "\n",
    "p = np.linspace(0, 1, 101)\n",
    "pa = comb(32, 16) * np.power(p, 16) * np.power(1 - p, 16)\n",
    "\n",
    "plt.plot(p, pa)"
   ]
  },
  {
   "cell_type": "markdown",
   "metadata": {},
   "source": [
    "It seems:\n",
    "1. $p$ is most likely to be $1/2$.\n",
    "2. Probability of $p$ being in somewhere around $1/2$ is pretty high.\n",
    "\n",
    "This is method is called maximum likelihood. Suppose we know the parameter ($p$ in this case), and we calculate the probability of the observation ($A$ in this case). $P(A)$ is a function of $p$, and we call it likelihood function, i.e.\n",
    "$$\n",
    "L(p) = P(A; p) = {32\\choose 16} p^{16}(1-p)^{16}\n",
    "$$\n",
    "Then we find a value of $p$ to maximize the likelihood function $L(p)$, and that value should be a decent estimation of $p$.\n",
    "\n",
    "More tossing will have a better result."
   ]
  },
  {
   "cell_type": "code",
   "execution_count": 5,
   "metadata": {},
   "outputs": [
    {
     "data": {
      "text/plain": [
       "[<matplotlib.lines.Line2D at 0x1e6a85a1580>]"
      ]
     },
     "execution_count": 5,
     "metadata": {},
     "output_type": "execute_result"
    },
    {
     "data": {
      "image/png": "[encoded data removed]",
      "text/plain": [
       "<Figure size 432x288 with 1 Axes>"
      ]
     },
     "metadata": {
      "needs_background": "light"
     },
     "output_type": "display_data"
    }
   ],
   "source": [
    "p = np.linspace(0, 1, 1001)\n",
    "pa = comb(1000, 500) * np.power(p, 500) * np.power(1 - p, 500)\n",
    "\n",
    "plt.plot(p, pa)"
   ]
  },
  {
   "cell_type": "markdown",
   "metadata": {},
   "source": [
    "Using maximum likelihood seems fine. But what about other estimators? Let's try MMSE (minimum mean square error) estimator.\n",
    "$$\n",
    "\\hat{p}_{MMSE} = E(p | A)\n",
    "$$\n",
    "We need a prior distribution of $p$. Let's say $p\\sim U[0,1]$. The consider distribution function for $p$ given $A$:\n",
    "$$\n",
    "\\begin{aligned}\n",
    "f_{p|A}(x) &= \\frac{P(A|p=x)f_p(x)}{\\int_{0}^{1}P(A|p=y)f_p(y)dy} \\\\\n",
    "&= \\frac{L(x)}{\\int_{0}^{1}L(y)dy}\n",
    "\\end{aligned}\n",
    "$$\n",
    "Then\n",
    "$$\n",
    "\\begin{aligned}\n",
    "\\hat{p}_{MMSE} &= E(p | A) \\\\\n",
    "&= \\int_{0}^{1} x f_{p|A}(x) dx \\\\\n",
    "&= \\frac{\\int_{0}^{1}xL(x) dx}{\\int_{0}^{1}L(y)dy} \\\\\n",
    "&= \\frac{\\int_{0}^{1}x^{17}(1-x)^{16} dx}{\\int_{0}^{1}y^{16}(1-y)^{16}dy} \\\\\n",
    "&= \\frac{1}{2}\n",
    "\\end{aligned}\n",
    "$$\n",
    "Therefore, MMSE estimator gives the same result."
   ]
  }
 ],
 "metadata": {
  "kernelspec": {
   "display_name": "Python 3.8.5 ('base')",
   "language": "python",
   "name": "python3"
  },
  "language_info": {
   "codemirror_mode": {
    "name": "ipython",
    "version": 3
   },
   "file_extension": ".py",
   "mimetype": "text/x-python",
   "name": "python",
   "nbconvert_exporter": "python",
   "pygments_lexer": "ipython3",
   "version": "3.8.5"
  },
  "orig_nbformat": 4,
  "vscode": {
   "interpreter": {
    "hash": "ca109ec8c936f20eb8b5a0661a80bf6b6f810afbcf7593d54f0c2fd6242c2e8d"
   }
  }
 },
 "nbformat": 4,
 "nbformat_minor": 2
}
